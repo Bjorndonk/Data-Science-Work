{
 "cells": [
  {
   "cell_type": "code",
   "execution_count": 1,
   "metadata": {
    "scrolled": true
   },
   "outputs": [],
   "source": [
    "import pandas as pd\n",
    "import numpy as np\n",
    "import matplotlib.pylab as plt\n",
    "%matplotlib inline"
   ]
  },
  {
   "cell_type": "code",
   "execution_count": 2,
   "metadata": {},
   "outputs": [
    {
     "name": "stdout",
     "output_type": "stream",
     "text": [
      "According to the simulation, the probability of drawing a three of a kind is approximately 0.0209\n",
      "This is consistent with the calculated probability from Part A of the problem: 0.02112845138055222\n"
     ]
    }
   ],
   "source": [
    "import random\n",
    "\n",
    "# Returns true if 3 of a kind, false otherwise\n",
    "def check_if_three_of_a_kind(hand):\n",
    "    for x in range(5):\n",
    "        hand[x] = hand[x][0]\n",
    "    npHand = np.array(hand)\n",
    "    npHand, count = np.unique(npHand, return_counts=True)\n",
    "    if np.array_equal(count, [3,1,1]) or np.array_equal(count, [1,3,1]) or np.array_equal(count, [1,1,3]):\n",
    "        return True\n",
    "    else:\n",
    "        return False\n",
    "\n",
    "# Creates a 52 card deck\n",
    "deck = [\"AC\", \"2C\", \"3C\", \"4C\", \"5C\", \"6C\", \"7C\", \"8C\", \"9C\", \"0C\", \"JC\", \"QC\", \"KC\", \"AD\", \"2D\", \"3D\", \"4D\", \"5D\", \"6D\", \"7D\", \"8D\", \"9D\", \"0D\", \"JD\", \"QD\", \"KD\", \"AH\", \"2H\", \"3H\", \"4H\", \"5H\", \"6H\", \"7H\", \"8H\", \"9H\", \"0H\", \"JH\", \"QH\", \"KH\", \"AS\", \"2S\", \"3S\", \"4S\", \"5S\", \"6S\", \"7S\", \"8S\", \"9S\", \"0S\", \"JS\", \"QS\", \"KS\"]\n",
    "# Tracks how many 3 of a kind are drawn\n",
    "handCount = 0\n",
    "\n",
    "# Draws 10000 hands, checks if each hand is 3 of a kind, adds to handCount if true\n",
    "for x in range(10000):\n",
    "    hand = random.sample(deck, 5)\n",
    "    if check_if_three_of_a_kind(hand) == True:\n",
    "        handCount = handCount + 1\n",
    "        \n",
    "print(\"According to the simulation, the probability of drawing a three of a kind is approximately\", handCount/10000)\n",
    "print(\"This is consistent with the calculated probability from Part A of the problem:\", 88/4165)\n",
    "    "
   ]
  },
  {
   "cell_type": "code",
   "execution_count": 3,
   "metadata": {},
   "outputs": [],
   "source": [
    "def prob_four(n):\n",
    "\n",
    "    # your code goes here!\n",
    "    n = int(n)\n",
    "    numerator = 28 / 40\n",
    "    denominator = 11/20\n",
    "    iteration = 1\n",
    "    while iteration < n:\n",
    "        denominator = denominator * (11/20)\n",
    "        iteration = iteration + 1\n",
    "\n",
    "    denominator = denominator * (12 / 40) \n",
    "    denominator = denominator + (28 / 40)\n",
    "    prob = numerator / denominator\n",
    "    return(prob)"
   ]
  },
  {
   "cell_type": "code",
   "execution_count": 4,
   "metadata": {},
   "outputs": [
    {
     "name": "stdout",
     "output_type": "stream",
     "text": [
      "This formula correctly equates the probability for n=1 at 0.8092485549132947\n",
      "Then, at n=5, the formula equates a probability of 0.9788860827002293\n"
     ]
    }
   ],
   "source": [
    "print(\"This formula correctly equates the probability for n=1 at\", prob_four(1))\n",
    "print(\"Then, at n=5, the formula equates a probability of\", prob_four(5))"
   ]
  },
  {
   "cell_type": "code",
   "execution_count": 5,
   "metadata": {},
   "outputs": [],
   "source": [
    "import random\n",
    "\n",
    "def miniopoly_turn(location, cash, in_jail):\n",
    "    # Rolling two dice\n",
    "    r1 = random.randint(1,6)\n",
    "    r2 = random.randint(1,6)\n",
    "    # Checking if the player began their turn in jail\n",
    "    if in_jail == True:\n",
    "        if r1 != r2:\n",
    "            cash -= 20\n",
    "        else:\n",
    "            in_jail = False\n",
    "    if in_jail == False:\n",
    "        # Checking if the player passed or landed on go\n",
    "        if ((location + r1 + r2) % 40) < location:\n",
    "            cash += 200\n",
    "        # Moving player equal to their roll\n",
    "        location = (location + r1 + r2) % 40\n",
    "    # Executing rules based on the space landed on\n",
    "    if location in [2, 7, 17, 22, 33, 36]:\n",
    "        card = random.randint(1,5)\n",
    "        if card == 1:\n",
    "            cash += 50\n",
    "        elif card == 2:\n",
    "            cash += 100\n",
    "        elif card == 3:\n",
    "            cash += 200\n",
    "        elif card == 4:\n",
    "            cash -= 50\n",
    "        else:\n",
    "            cash -= 100\n",
    "    elif location == 30:\n",
    "        location = 10\n",
    "        in_jail = True\n",
    "    elif location == 0 or location == 10 or location == 20:\n",
    "        pass\n",
    "    else:\n",
    "        cash -= location\n",
    "    # Adjusting cash to 0 in the case of bankrupcy\n",
    "    if cash <= 0:\n",
    "        cash = 0\n",
    "    return location, cash, in_jail"
   ]
  },
  {
   "cell_type": "code",
   "execution_count": 6,
   "metadata": {},
   "outputs": [
    {
     "data": {
      "text/plain": [
       "<AxesSubplot:>"
      ]
     },
     "execution_count": 6,
     "metadata": {},
     "output_type": "execute_result"
    },
    {
     "data": {
      "image/png": "[encoded data removed]",
      "text/plain": [
       "<Figure size 640x480 with 1 Axes>"
      ]
     },
     "metadata": {},
     "output_type": "display_data"
    }
   ],
   "source": [
    "def simulate_game(num_turns):\n",
    "    # Setting starting variables\n",
    "    location = 0\n",
    "    cash = 200\n",
    "    curr_turn = 1\n",
    "    in_jail = False\n",
    "    \n",
    "    # Simulating game\n",
    "    while (curr_turn <= num_turns) and (cash > 0):\n",
    "        location, cash, in_jail = miniopoly_turn(location, cash, in_jail)\n",
    "        curr_turn += 1\n",
    "    \n",
    "    return cash\n",
    "\n",
    "num_games = 10000\n",
    "num_turns = 30\n",
    "ending_cash = np.zeros(num_games)\n",
    "for x in range(num_games):\n",
    "    ending_cash[x] = simulate_game(num_turns)\n",
    "    \n",
    "cashpd = pd.Series(ending_cash)\n",
    "cashpd.hist(bins=30)"
   ]
  },
  {
   "cell_type": "code",
   "execution_count": 7,
   "metadata": {},
   "outputs": [
    {
     "name": "stdout",
     "output_type": "stream",
     "text": [
      "The simulated probability of going bankrupt is 0.1449\n"
     ]
    }
   ],
   "source": [
    "num_games = 10000\n",
    "num_turns = 30\n",
    "num_games_bankrupt = 0\n",
    "for x in range(num_games):\n",
    "    if simulate_game(num_turns) == 0:\n",
    "        num_games_bankrupt += 1\n",
    "\n",
    "# Calculating and printing the bankrupcy probability\n",
    "bankrupt_prob = num_games_bankrupt / num_games\n",
    "print(\"The simulated probability of going bankrupt is\", bankrupt_prob)"
   ]
  },
  {
   "cell_type": "code",
   "execution_count": 8,
   "metadata": {},
   "outputs": [
    {
     "name": "stdout",
     "output_type": "stream",
     "text": [
      "The simulated probability of going bankrupt given you went to jail that game is 0.1966\n"
     ]
    }
   ],
   "source": [
    "def jail_game(num_turns):\n",
    "    found_jail_game = False\n",
    "    location = 0\n",
    "    cash = 200\n",
    "    curr_turn = 1\n",
    "    in_jail = False\n",
    "    \n",
    "    # Simulating game\n",
    "    while (curr_turn <= num_turns) and (cash > 0):\n",
    "        location, cash, in_jail = miniopoly_turn(location, cash, in_jail)\n",
    "        curr_turn += 1\n",
    "        # Checking if the player has gone to jail this game\n",
    "        if in_jail == True:\n",
    "            found_jail_game = True\n",
    "    \n",
    "    if found_jail_game == True:\n",
    "        return cash\n",
    "    else:\n",
    "        return jail_game(num_turns)\n",
    "    \n",
    "# Simulating jail games\n",
    "num_games = 10000\n",
    "num_turns = 30\n",
    "num_games_bankrupt = 0\n",
    "for x in range(num_games):\n",
    "    if jail_game(num_turns) == 0:\n",
    "        num_games_bankrupt += 1\n",
    "\n",
    "# Calculating and printing the probability\n",
    "bankrupt_given_jail_prob = num_games_bankrupt / num_games\n",
    "print(\"The simulated probability of going bankrupt given you went to jail that game is\", bankrupt_given_jail_prob)"
   ]
  },
  {
   "cell_type": "code",
   "execution_count": 9,
   "metadata": {},
   "outputs": [
    {
     "name": "stdout",
     "output_type": "stream",
     "text": [
      "The probability the player went to jail given they went bankrupt is 0.00020351966873706002\n"
     ]
    }
   ],
   "source": [
    "def calculate_jail_prob(num_turns):\n",
    "    # Setting starting variables\n",
    "    found_jail_game = False\n",
    "    location = 0\n",
    "    cash = 200\n",
    "    curr_turn = 1\n",
    "    in_jail = False\n",
    "    \n",
    "    # Simulating game\n",
    "    while (curr_turn <= num_turns) and (cash > 0):\n",
    "        location, cash, in_jail = miniopoly_turn(location, cash, in_jail)\n",
    "        curr_turn += 1\n",
    "        # Checking if the player has gone to jail this game\n",
    "        if in_jail == True:\n",
    "            found_jail_game = True\n",
    "            \n",
    "    return found_jail_game\n",
    "\n",
    "# Calculating the probability of going to jail during a game\n",
    "# Given the probability of going to jail is low,\n",
    "# we run 100000 games instead of 10000 for a more accurate probability\n",
    "num_games = 100000\n",
    "num_turns = 30\n",
    "num_jail_games = 0\n",
    "for x in range(num_games):\n",
    "    if jail_game(num_turns) == 1:\n",
    "        num_jail_games += 1\n",
    "\n",
    "# Making calculating and saving probability in a variable\n",
    "jail_prob = (num_jail_games / num_games)\n",
    "\n",
    "# Calculating and printing the prob using Bayes' Theorem\n",
    "jail_given_bankrupt_prob = ((bankrupt_given_jail_prob * jail_prob) / bankrupt_prob)\n",
    "print(\"The probability the player went to jail given they went bankrupt is\", jail_given_bankrupt_prob)"
   ]
  },
  {
   "cell_type": "code",
   "execution_count": 10,
   "metadata": {},
   "outputs": [
    {
     "name": "stdout",
     "output_type": "stream",
     "text": [
      "The simulated probability of close pair rolls is 0.44446\n",
      "Compare this to the actual probability: 0.4444444444444444\n",
      "Simulating 50000 cases returns a probability quite accurate to the previously calculated probability.\n"
     ]
    }
   ],
   "source": [
    "def close_rolls_sim(num_rolls, is_close):\n",
    "    die = np.array([1,2,3,4,5,6])\n",
    "    closeCount = 0\n",
    "\n",
    "    for x in range(num_rolls):\n",
    "        r1 = np.random.choice(die)\n",
    "        r2 = np.random.choice(die)\n",
    "        if (r1 >= r2 - 1) and (r1 <= r2 + 1):\n",
    "            closeCount += 1\n",
    "            is_close[x] = 1\n",
    "        else:\n",
    "            is_close[x] = 0\n",
    "    \n",
    "    close_roll_prob = closeCount / num_rolls\n",
    "    return close_roll_prob, is_close\n",
    "\n",
    "num_rolls = 50000\n",
    "is_close = np.zeros(num_rolls)\n",
    "close_rolls_prob, is_close = close_rolls_sim(num_rolls, is_close)\n",
    "\n",
    "print(\"The simulated probability of close pair rolls is\", close_rolls_prob)\n",
    "print(\"Compare this to the actual probability:\", 4/9)\n",
    "print(\"Simulating 50000 cases returns a probability quite accurate to the previously calculated probability.\")"
   ]
  },
  {
   "cell_type": "code",
   "execution_count": 11,
   "metadata": {},
   "outputs": [
    {
     "data": {
      "image/png": "[encoded data removed]",
      "text/plain": [
       "<Figure size 1000x600 with 1 Axes>"
      ]
     },
     "metadata": {},
     "output_type": "display_data"
    }
   ],
   "source": [
    "# defining ax\n",
    "fig, ax= plt.subplots(figsize=(10,6))\n",
    "\n",
    "# defining variables\n",
    "num_rolls = 50000\n",
    "close_rolls_prob = 0\n",
    "colors = [\"b\", \"c\", \"g\", \"k\", \"m\", \"r\", \"y\", \"tomato\", \"springgreen\", \"orange\"]\n",
    "\n",
    "# Running Sims\n",
    "for sim in range(10):\n",
    "    close_rolls_prob, is_close = close_rolls_sim(num_rolls, is_close)\n",
    "    running_est = np.zeros(len(is_close))\n",
    "    for x in range(len(running_est)):\n",
    "        running_est[x] = np.sum(is_close[:x+1] == 1) / len(running_est[:x+1])\n",
    "    # plotting the terms runing_est\n",
    "    ax.plot(running_est, color=colors[sim])\n",
    "\n",
    "# put labels on the axes and give the graph a title.\n",
    "ax.set_title(\"Running Estimate of Probability of Close Rolls\", fontsize=20)\n",
    "ax.set_xlabel(\"Number of Rolls\", fontsize=16)\n",
    "ax.set_ylabel(\"Estimate of Probability\", fontsize=16)\n",
    "\n",
    "# put a faded grid behind the graphic\n",
    "ax.grid(True, alpha=0.25)"
   ]
  }
 ],
 "metadata": {
  "kernelspec": {
   "display_name": "Python 3 (ipykernel)",
   "language": "python",
   "name": "python3"
  },
  "language_info": {
   "codemirror_mode": {
    "name": "ipython",
    "version": 3
   },
   "file_extension": ".py",
   "mimetype": "text/x-python",
   "name": "python",
   "nbconvert_exporter": "python",
   "pygments_lexer": "ipython3",
   "version": "3.9.13"
  }
 },
 "nbformat": 4,
 "nbformat_minor": 2
}
