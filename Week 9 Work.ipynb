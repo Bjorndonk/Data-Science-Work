{
 "cells": [
  {
   "cell_type": "code",
   "execution_count": 1,
   "metadata": {},
   "outputs": [],
   "source": [
    "import numpy as np\n",
    "import pandas as pd\n",
    "import matplotlib.pylab as plt\n",
    "import scipy.stats as stats\n",
    "import statsmodels.stats.api as sms\n",
    "%matplotlib inline"
   ]
  },
  {
   "cell_type": "code",
   "execution_count": 2,
   "metadata": {},
   "outputs": [
    {
     "name": "stdout",
     "output_type": "stream",
     "text": [
      "Our calculated p-value using method 1: 1.6856083502187974e-83\n",
      "Our calculated p-value using method 2: 5.311097444932062e-82\n"
     ]
    }
   ],
   "source": [
    "count = np.array([4782, 3447])\n",
    "nobs = np.array([10000, 10000])\n",
    "\n",
    "res=sms.test_proportions_2indep(count[0], nobs[0], count[1], nobs[1], value=None, compare='diff', alternative='two-sided')\n",
    "stat, pval = sms.proportions_ztest(count, nobs, prop_var=(4825 + 3409)/(10000 + 10000))\n",
    "\n",
    "print(\"Our calculated p-value using method 1:\", res.pvalue)\n",
    "print(\"Our calculated p-value using method 2:\",  pval)"
   ]
  },
  {
   "cell_type": "code",
   "execution_count": 3,
   "metadata": {},
   "outputs": [
    {
     "name": "stdout",
     "output_type": "stream",
     "text": [
      "Our calculated p-value is: 5.311097444932062e-82\n"
     ]
    }
   ],
   "source": [
    "count = np.array([86, 68])\n",
    "nobs = np.array([164, 164])\n",
    "\n",
    "res=sms.test_proportions_2indep(count[0], nobs[0], count[1], nobs[1], value=None, compare='diff', alternative='two-sided')\n",
    "\n",
    "print(\"Our calculated p-value is:\",  pval)"
   ]
  },
  {
   "cell_type": "code",
   "execution_count": 4,
   "metadata": {},
   "outputs": [
    {
     "name": "stdout",
     "output_type": "stream",
     "text": [
      "required number of samples is: 4720.0\n"
     ]
    }
   ],
   "source": [
    "effect_size = sms.proportion_effectsize(0.13, 0.15)    # Calculating effect size based on our expected rates\n",
    "\n",
    "\n",
    "required_n = sms.NormalIndPower().solve_power(\n",
    "    effect_size, \n",
    "    power=0.8, \n",
    "    alpha=0.05, \n",
    "    ratio=1\n",
    "    )                                                  # Calculating sample size needed\n",
    "\n",
    "required_n = np.ceil(required_n)                          # Rounding up to next whole number                          \n",
    "\n",
    "print(\"required number of samples is:\", required_n)"
   ]
  },
  {
   "cell_type": "code",
   "execution_count": 5,
   "metadata": {},
   "outputs": [
    {
     "name": "stdout",
     "output_type": "stream",
     "text": [
      "   user_id                   timestamp      group landing_page  converted\n",
      "0   851104  2017-01-21 22:11:48.556739    control     old_page          0\n",
      "1   804228  2017-01-12 08:01:45.159739    control     old_page          0\n",
      "2   661590  2017-01-11 16:55:06.154213  treatment     new_page          0\n",
      "3   853541  2017-01-08 18:28:03.143765  treatment     new_page          0\n",
      "4   864975  2017-01-21 01:52:26.210827    control     old_page          1\n",
      "\n",
      "\n",
      "<class 'pandas.core.frame.DataFrame'>\n",
      "RangeIndex: 294478 entries, 0 to 294477\n",
      "Data columns (total 5 columns):\n",
      " #   Column        Non-Null Count   Dtype \n",
      "---  ------        --------------   ----- \n",
      " 0   user_id       294478 non-null  int64 \n",
      " 1   timestamp     294478 non-null  object\n",
      " 2   group         294478 non-null  object\n",
      " 3   landing_page  294478 non-null  object\n",
      " 4   converted     294478 non-null  int64 \n",
      "dtypes: int64(2), object(3)\n",
      "memory usage: 11.2+ MB\n",
      "None\n",
      "\n",
      "\n",
      "Observe that there are 294478 rows in the dataframe\n"
     ]
    }
   ],
   "source": [
    "file_path = 'ab_data.csv'\n",
    "\n",
    "df = pd.read_csv(file_path)\n",
    "\n",
    "print(df.head(5))\n",
    "print('\\n')\n",
    "print(df.info())\n",
    "print('\\n')\n",
    "print(\"Observe that there are 294478 rows in the dataframe\")"
   ]
  },
  {
   "cell_type": "code",
   "execution_count": 6,
   "metadata": {},
   "outputs": [
    {
     "name": "stdout",
     "output_type": "stream",
     "text": [
      "<class 'pandas.core.frame.DataFrame'>\n",
      "RangeIndex: 294478 entries, 0 to 294477\n",
      "Data columns (total 5 columns):\n",
      " #   Column        Non-Null Count   Dtype \n",
      "---  ------        --------------   ----- \n",
      " 0   user_id       294478 non-null  int64 \n",
      " 1   timestamp     294478 non-null  object\n",
      " 2   group         294478 non-null  object\n",
      " 3   landing_page  294478 non-null  object\n",
      " 4   converted     294478 non-null  int64 \n",
      "dtypes: int64(2), object(3)\n",
      "memory usage: 11.2+ MB\n"
     ]
    }
   ],
   "source": [
    "def fix_group(val):\n",
    "    if pd.isnull(val):\n",
    "        return val \n",
    "    if val == \"control\":\n",
    "        return \"old_page\"\n",
    "    return \"new_page\"\n",
    "\n",
    "df.loc[:, \"landing_page\"] = df.loc[:, \"group\"].apply(fix_group)\n",
    "\n",
    "df.info()"
   ]
  },
  {
   "cell_type": "code",
   "execution_count": 7,
   "metadata": {},
   "outputs": [
    {
     "name": "stdout",
     "output_type": "stream",
     "text": [
      "<class 'pandas.core.frame.DataFrame'>\n",
      "Int64Index: 286690 entries, 0 to 294477\n",
      "Data columns (total 5 columns):\n",
      " #   Column        Non-Null Count   Dtype \n",
      "---  ------        --------------   ----- \n",
      " 0   user_id       286690 non-null  int64 \n",
      " 1   timestamp     286690 non-null  object\n",
      " 2   group         286690 non-null  object\n",
      " 3   landing_page  286690 non-null  object\n",
      " 4   converted     286690 non-null  int64 \n",
      "dtypes: int64(2), object(3)\n",
      "memory usage: 13.1+ MB\n"
     ]
    }
   ],
   "source": [
    "df = df.drop_duplicates(subset=\"user_id\", keep=False)\n",
    "\n",
    "df.info()"
   ]
  },
  {
   "cell_type": "code",
   "execution_count": 8,
   "metadata": {},
   "outputs": [],
   "source": [
    "dfControlSample = df.loc[df['group'] == 'control'].sample(n=4720)\n",
    "dfTreatmentSample = df.loc[df['group'] == 'treatment'].sample(n=4720)"
   ]
  },
  {
   "cell_type": "code",
   "execution_count": 9,
   "metadata": {},
   "outputs": [
    {
     "name": "stdout",
     "output_type": "stream",
     "text": [
      "The control conversion rate is  0.11228813559322035\n",
      "The treatment conversion rate is  0.11843220338983051\n"
     ]
    }
   ],
   "source": [
    "conversion_control = len(dfControlSample.loc[dfControlSample[\"converted\"] == 1])\n",
    "conversion_treatment = len(dfTreatmentSample.loc[dfTreatmentSample[\"converted\"] == 1])\n",
    "\n",
    "control_rate = conversion_control/4720\n",
    "treatment_rate = conversion_treatment/4720\n",
    "\n",
    "print(\"The control conversion rate is \", control_rate)\n",
    "print(\"The treatment conversion rate is \", treatment_rate)"
   ]
  },
  {
   "cell_type": "code",
   "execution_count": 10,
   "metadata": {},
   "outputs": [
    {
     "data": {
      "text/plain": [
       "<BarContainer object of 2 artists>"
      ]
     },
     "execution_count": 10,
     "metadata": {},
     "output_type": "execute_result"
    },
    {
     "data": {
      "image/png": "[encoded data removed]",
      "text/plain": [
       "<Figure size 640x480 with 1 Axes>"
      ]
     },
     "metadata": {},
     "output_type": "display_data"
    }
   ],
   "source": [
    "x = [\"Control\", \"Treatment\"]\n",
    "y = [control_rate, treatment_rate]\n",
    "\n",
    "plt.bar(x,y)"
   ]
  },
  {
   "cell_type": "code",
   "execution_count": 11,
   "metadata": {},
   "outputs": [
    {
     "name": "stdout",
     "output_type": "stream",
     "text": [
      "Our calculated p-value is: 5.311097444932062e-82\n"
     ]
    }
   ],
   "source": [
    "count = np.array([544, 579])\n",
    "nobs = np.array([4720, 4720])\n",
    "\n",
    "res=sms.test_proportions_2indep(count[0], nobs[0], count[1], nobs[1], value=None, compare='diff', alternative='two-sided')\n",
    "\n",
    "print(\"Our calculated p-value is:\",  pval)"
   ]
  },
  {
   "cell_type": "code",
   "execution_count": 12,
   "metadata": {},
   "outputs": [
    {
     "data": {
      "text/plain": [
       "(-0.020486928196616797, 0.005653155521651456)"
      ]
     },
     "execution_count": 12,
     "metadata": {},
     "output_type": "execute_result"
    }
   ],
   "source": [
    "sms.confint_proportions_2indep(544, 4720, 579, 4720, alpha=0.05)"
   ]
  },
  {
   "cell_type": "code",
   "execution_count": 13,
   "metadata": {},
   "outputs": [
    {
     "data": {
      "image/png": "[encoded data removed]",
      "text/plain": [
       "<Figure size 640x480 with 1 Axes>"
      ]
     },
     "metadata": {},
     "output_type": "display_data"
    }
   ],
   "source": [
    "dfWhite = pd.read_csv(\"winequality-white.csv\", sep=\";\")\n",
    "dfRed = pd.read_csv(\"winequality-red.csv\", sep=\";\")\n",
    "dfBoth = pd.DataFrame({\"White\": dfWhite[\"alcohol\"], \"Red\": dfRed[\"alcohol\"]})\n",
    "\n",
    "ax = dfBoth[[\"White\", \"Red\"]].plot(kind=\"box\", title = \"Alcohol Content by Type of Wine\", showmeans=True)"
   ]
  },
  {
   "cell_type": "code",
   "execution_count": 14,
   "metadata": {},
   "outputs": [
    {
     "name": "stdout",
     "output_type": "stream",
     "text": [
      "The calculated p-value is 0.4428497459402534\n"
     ]
    }
   ],
   "source": [
    "res = stats.ttest_ind(dfWhite.mean(),dfRed.mean(), equal_var=False,)\n",
    "print(\"The calculated p-value is\", res.pvalue)"
   ]
  },
  {
   "cell_type": "code",
   "execution_count": 15,
   "metadata": {},
   "outputs": [
    {
     "data": {
      "text/plain": [
       "(-16.305725457439795, 35.22656431811906)"
      ]
     },
     "execution_count": 15,
     "metadata": {},
     "output_type": "execute_result"
    }
   ],
   "source": [
    "cm=sms.CompareMeans(sms.DescrStatsW(dfWhite.mean()),sms.DescrStatsW(dfRed.mean()))\n",
    "\n",
    "cm.tconfint_diff(alpha=0.05, usevar='unequal')"
   ]
  },
  {
   "cell_type": "code",
   "execution_count": 16,
   "metadata": {},
   "outputs": [],
   "source": [
    "from scipy.stats import chi2"
   ]
  },
  {
   "cell_type": "code",
   "execution_count": 17,
   "metadata": {
    "scrolled": false
   },
   "outputs": [
    {
     "data": {
      "text/plain": [
       "(array([5.181e+03, 3.079e+03, 1.131e+03, 4.190e+02, 1.290e+02, 3.600e+01,\n",
       "        1.700e+01, 3.000e+00, 3.000e+00, 2.000e+00]),\n",
       " array([9.60816483e-03, 2.44745213e+00, 4.88529610e+00, 7.32314007e+00,\n",
       "        9.76098404e+00, 1.21988280e+01, 1.46366720e+01, 1.70745159e+01,\n",
       "        1.95123599e+01, 2.19502039e+01, 2.43880478e+01]),\n",
       " <BarContainer object of 10 artists>)"
      ]
     },
     "execution_count": 17,
     "metadata": {},
     "output_type": "execute_result"
    },
    {
     "data": {
      "image/png": "[encoded data removed]",
      "text/plain": [
       "<Figure size 1200x600 with 1 Axes>"
      ]
     },
     "metadata": {},
     "output_type": "display_data"
    }
   ],
   "source": [
    "d = 3 \n",
    "x = chi2.rvs(d, size=10000)\n",
    "fig, ax = plt.subplots(nrows=1, ncols=1, figsize=(12,6))\n",
    "ax.hist(x)"
   ]
  },
  {
   "cell_type": "code",
   "execution_count": 26,
   "metadata": {},
   "outputs": [
    {
     "data": {
      "image/png": "[encoded data removed]",
      "text/plain": [
       "<Figure size 1200x600 with 1 Axes>"
      ]
     },
     "metadata": {},
     "output_type": "display_data"
    }
   ],
   "source": [
    "def confidence_intervals(m=500, n=100):\n",
    "    # TODO\n",
    "    fig, ax = plt.subplots(nrows=1, ncols=1, figsize=(12,6))\n",
    "    ax.plot([0,50], [3, 3], color=\"steelblue\", ls='--', lw=3)\n",
    "    \n",
    "    for num in range(m):\n",
    "        d = 3 \n",
    "        x = chi2.rvs(d, size=n)\n",
    "        (CImin, CImax) = stats.t.interval(0.95, df=len(x)-1, loc=np.mean(x), scale=stats.sem(x))\n",
    "        if CImin > 3 or CImax < 3:\n",
    "            ax.plot([num, num], [CImin, CImax], color=\"red\")\n",
    "        else:\n",
    "            ax.plot([num, num], [CImin, CImax], color=\"black\")\n",
    "        \n",
    "    ax.set_xlim([-1,50])\n",
    "    plt.xticks(range(50), fontsize=12)\n",
    "    \n",
    "confidence_intervals(500, 100)"
   ]
  }
 ],
 "metadata": {
  "kernelspec": {
   "display_name": "Python 3 (ipykernel)",
   "language": "python",
   "name": "python3"
  },
  "language_info": {
   "codemirror_mode": {
    "name": "ipython",
    "version": 3
   },
   "file_extension": ".py",
   "mimetype": "text/x-python",
   "name": "python",
   "nbconvert_exporter": "python",
   "pygments_lexer": "ipython3",
   "version": "3.9.13"
  }
 },
 "nbformat": 4,
 "nbformat_minor": 2
}
