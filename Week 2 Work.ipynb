{
 "cells": [
  {
   "cell_type": "code",
   "execution_count": 1,
   "metadata": {},
   "outputs": [],
   "source": [
    "import numpy as np\n",
    "import pandas as pd\n",
    "import matplotlib.pylab as plt\n",
    "%matplotlib inline"
   ]
  },
  {
   "cell_type": "code",
   "execution_count": 2,
   "metadata": {},
   "outputs": [],
   "source": [
    "def my_sample_mean(passed_array):\n",
    "    return(passed_array.sum()/passed_array.size)\n",
    "\n",
    "def my_sample_var(passed_array):\n",
    "    mean = my_sample_mean(passed_array)\n",
    "    new_array = (passed_array - mean)\n",
    "    new_array = new_array*new_array\n",
    "    return(new_array.sum()/(new_array.size - 1))"
   ]
  },
  {
   "cell_type": "code",
   "execution_count": 3,
   "metadata": {},
   "outputs": [
    {
     "name": "stdout",
     "output_type": "stream",
     "text": [
      "The sample mean is: 43.375\n",
      "The sample variance is: 5884.516666666666\n"
     ]
    }
   ],
   "source": [
    "bus = np.array([4, 10, 0, 312, 22, 39, 81, 19, 8, 60, 1,3,80, 42,12,1])\n",
    "\n",
    "print(\"The sample mean is:\", my_sample_mean(bus))\n",
    "print(\"The sample variance is:\", my_sample_var(bus))"
   ]
  },
  {
   "cell_type": "code",
   "execution_count": 4,
   "metadata": {},
   "outputs": [],
   "source": [
    "def update_mean(prev_mean, xn, n):\n",
    "    new_mean = prev_mean + (xn - prev_mean)/n\n",
    "    return(new_mean)\n"
   ]
  },
  {
   "cell_type": "code",
   "execution_count": 5,
   "metadata": {},
   "outputs": [
    {
     "name": "stdout",
     "output_type": "stream",
     "text": [
      "Means:\n",
      "7.0\n",
      "4.666666666666666\n",
      "81.5\n",
      "69.6\n",
      "64.5\n",
      "66.85714285714286\n",
      "60.875\n",
      "55.0\n",
      "55.5\n",
      "50.54545454545455\n",
      "46.583333333333336\n",
      "49.15384615384615\n",
      "48.64285714285714\n",
      "46.199999999999996\n",
      "43.37499999999999\n"
     ]
    }
   ],
   "source": [
    "buffbus_bad_means = np.array([7])\n",
    "prev_mean = 7\n",
    "\n",
    "for x in range(2, 16):\n",
    "    buffbus_bad_means = np.append(buffbus_bad_means, update_mean(prev_mean,bus[x],x+1))\n",
    "    prev_mean = update_mean(prev_mean,bus[x],x+1)\n",
    "\n",
    "print(\"Means:\")\n",
    "for x in range(15):\n",
    "    print(buffbus_bad_means[x])"
   ]
  },
  {
   "cell_type": "code",
   "execution_count": 6,
   "metadata": {},
   "outputs": [],
   "source": [
    "assert update_mean(1,2,3)==4/3, \"Warning: function seems broken.\""
   ]
  },
  {
   "cell_type": "code",
   "execution_count": 7,
   "metadata": {},
   "outputs": [
    {
     "data": {
      "text/html": [
       "<div>\n",
       "<style scoped>\n",
       "    .dataframe tbody tr th:only-of-type {\n",
       "        vertical-align: middle;\n",
       "    }\n",
       "\n",
       "    .dataframe tbody tr th {\n",
       "        vertical-align: top;\n",
       "    }\n",
       "\n",
       "    .dataframe thead th {\n",
       "        text-align: right;\n",
       "    }\n",
       "</style>\n",
       "<table border=\"1\" class=\"dataframe\">\n",
       "  <thead>\n",
       "    <tr style=\"text-align: right;\">\n",
       "      <th></th>\n",
       "      <th>foot_length</th>\n",
       "      <th>shoe_size</th>\n",
       "      <th>sex</th>\n",
       "      <th>IQ</th>\n",
       "      <th>US_section</th>\n",
       "      <th>city_size</th>\n",
       "    </tr>\n",
       "  </thead>\n",
       "  <tbody>\n",
       "    <tr>\n",
       "      <th>0</th>\n",
       "      <td>7.96</td>\n",
       "      <td>8</td>\n",
       "      <td>0</td>\n",
       "      <td>23.8</td>\n",
       "      <td>West</td>\n",
       "      <td>500K</td>\n",
       "    </tr>\n",
       "    <tr>\n",
       "      <th>1</th>\n",
       "      <td>6.76</td>\n",
       "      <td>7</td>\n",
       "      <td>0</td>\n",
       "      <td>21.3</td>\n",
       "      <td>West</td>\n",
       "      <td>500K</td>\n",
       "    </tr>\n",
       "    <tr>\n",
       "      <th>2</th>\n",
       "      <td>6.96</td>\n",
       "      <td>7</td>\n",
       "      <td>1</td>\n",
       "      <td>22.2</td>\n",
       "      <td>East</td>\n",
       "      <td>500K</td>\n",
       "    </tr>\n",
       "    <tr>\n",
       "      <th>3</th>\n",
       "      <td>7.86</td>\n",
       "      <td>8</td>\n",
       "      <td>1</td>\n",
       "      <td>25.3</td>\n",
       "      <td>East</td>\n",
       "      <td>100K</td>\n",
       "    </tr>\n",
       "    <tr>\n",
       "      <th>4</th>\n",
       "      <td>8.17</td>\n",
       "      <td>9</td>\n",
       "      <td>0</td>\n",
       "      <td>23.9</td>\n",
       "      <td>East</td>\n",
       "      <td>100K</td>\n",
       "    </tr>\n",
       "    <tr>\n",
       "      <th>...</th>\n",
       "      <td>...</td>\n",
       "      <td>...</td>\n",
       "      <td>...</td>\n",
       "      <td>...</td>\n",
       "      <td>...</td>\n",
       "      <td>...</td>\n",
       "    </tr>\n",
       "    <tr>\n",
       "      <th>1495</th>\n",
       "      <td>6.89</td>\n",
       "      <td>7</td>\n",
       "      <td>0</td>\n",
       "      <td>22.9</td>\n",
       "      <td>South</td>\n",
       "      <td>1K</td>\n",
       "    </tr>\n",
       "    <tr>\n",
       "      <th>1496</th>\n",
       "      <td>6.03</td>\n",
       "      <td>7</td>\n",
       "      <td>0</td>\n",
       "      <td>18.8</td>\n",
       "      <td>North</td>\n",
       "      <td>1K</td>\n",
       "    </tr>\n",
       "    <tr>\n",
       "      <th>1497</th>\n",
       "      <td>8.83</td>\n",
       "      <td>9</td>\n",
       "      <td>1</td>\n",
       "      <td>26.0</td>\n",
       "      <td>North</td>\n",
       "      <td>1M</td>\n",
       "    </tr>\n",
       "    <tr>\n",
       "      <th>1498</th>\n",
       "      <td>7.73</td>\n",
       "      <td>8</td>\n",
       "      <td>0</td>\n",
       "      <td>23.6</td>\n",
       "      <td>North</td>\n",
       "      <td>100K</td>\n",
       "    </tr>\n",
       "    <tr>\n",
       "      <th>1499</th>\n",
       "      <td>4.94</td>\n",
       "      <td>5</td>\n",
       "      <td>1</td>\n",
       "      <td>16.9</td>\n",
       "      <td>West</td>\n",
       "      <td>100K</td>\n",
       "    </tr>\n",
       "  </tbody>\n",
       "</table>\n",
       "<p>1500 rows × 6 columns</p>\n",
       "</div>"
      ],
      "text/plain": [
       "      foot_length  shoe_size  sex    IQ US_section city_size\n",
       "0            7.96          8    0  23.8       West      500K\n",
       "1            6.76          7    0  21.3       West      500K\n",
       "2            6.96          7    1  22.2       East      500K\n",
       "3            7.86          8    1  25.3       East      100K\n",
       "4            8.17          9    0  23.9       East      100K\n",
       "...           ...        ...  ...   ...        ...       ...\n",
       "1495         6.89          7    0  22.9      South        1K\n",
       "1496         6.03          7    0  18.8      North        1K\n",
       "1497         8.83          9    1  26.0      North        1M\n",
       "1498         7.73          8    0  23.6      North      100K\n",
       "1499         4.94          5    1  16.9       West      100K\n",
       "\n",
       "[1500 rows x 6 columns]"
      ]
     },
     "execution_count": 7,
     "metadata": {},
     "output_type": "execute_result"
    }
   ],
   "source": [
    "file_path = 'foot_smart.csv'\n",
    "dfFootIQ = pd.read_csv(file_path)\n",
    "\n",
    "dfFootIQ.head(1500)"
   ]
  },
  {
   "cell_type": "code",
   "execution_count": 8,
   "metadata": {},
   "outputs": [],
   "source": [
    "def clean_city_size(data):\n",
    "    \n",
    "    # We make sure the value isn't missing for safety\n",
    "    if pd.isnull(data):\n",
    "        return data\n",
    "    \n",
    "    # Removing white space \n",
    "    stripped_data = data.strip()\n",
    "    \n",
    "    # Converting K and M to zeroes\n",
    "    data_str = stripped_data.replace('K', '000').replace('M', '000000')\n",
    "    \n",
    "    # Converting to an int\n",
    "    int_data = int(data_str)\n",
    "    \n",
    "    return int_data\n",
    "\n",
    "# Running the function to clean every member of the city_size column\n",
    "dfFootIQ.loc[:, \"city_size\"] = dfFootIQ.loc[:,\"city_size\"].apply(clean_city_size)"
   ]
  },
  {
   "cell_type": "code",
   "execution_count": 9,
   "metadata": {},
   "outputs": [
    {
     "name": "stdout",
     "output_type": "stream",
     "text": [
      "<class 'pandas.core.frame.DataFrame'>\n",
      "RangeIndex: 1500 entries, 0 to 1499\n",
      "Data columns (total 6 columns):\n",
      " #   Column       Non-Null Count  Dtype  \n",
      "---  ------       --------------  -----  \n",
      " 0   foot_length  1500 non-null   float64\n",
      " 1   shoe_size    1500 non-null   int64  \n",
      " 2   sex          1500 non-null   int64  \n",
      " 3   IQ           1500 non-null   float64\n",
      " 4   US_section   1500 non-null   object \n",
      " 5   city_size    1500 non-null   int64  \n",
      "dtypes: float64(2), int64(3), object(1)\n",
      "memory usage: 70.4+ KB\n"
     ]
    }
   ],
   "source": [
    "dfFootIQ.info()"
   ]
  },
  {
   "cell_type": "code",
   "execution_count": 10,
   "metadata": {},
   "outputs": [
    {
     "data": {
      "image/png": "[encoded data removed]",
      "text/plain": [
       "<Figure size 640x480 with 1 Axes>"
      ]
     },
     "metadata": {},
     "output_type": "display_data"
    }
   ],
   "source": [
    "ax1 = dfFootIQ.plot.scatter(x=['foot_length'], y=['city_size'])"
   ]
  },
  {
   "cell_type": "code",
   "execution_count": 11,
   "metadata": {},
   "outputs": [
    {
     "data": {
      "image/png": "[encoded data removed]",
      "text/plain": [
       "<Figure size 640x480 with 1 Axes>"
      ]
     },
     "metadata": {},
     "output_type": "display_data"
    },
    {
     "data": {
      "image/png": "[encoded data removed]",
      "text/plain": [
       "<Figure size 640x480 with 1 Axes>"
      ]
     },
     "metadata": {},
     "output_type": "display_data"
    }
   ],
   "source": [
    "ax2 = dfFootIQ.plot.scatter(x=['shoe_size'], y=['IQ'])\n",
    "ax3 = dfFootIQ.plot.scatter(x=['foot_length'], y=['IQ'])"
   ]
  },
  {
   "cell_type": "code",
   "execution_count": 12,
   "metadata": {},
   "outputs": [
    {
     "name": "stdout",
     "output_type": "stream",
     "text": [
      "Mean shoe size of the provided data: 7.556666666666667\n"
     ]
    }
   ],
   "source": [
    "print(\"Mean shoe size of the provided data:\",dfFootIQ['shoe_size'].mean())"
   ]
  },
  {
   "cell_type": "code",
   "execution_count": 13,
   "metadata": {},
   "outputs": [
    {
     "name": "stdout",
     "output_type": "stream",
     "text": [
      "After adding 2 to each element of the data set, the new mean is 9.556666666666667\n"
     ]
    }
   ],
   "source": [
    "print(\"After adding 2 to each element of the data set, the new mean is\",dfFootIQ['shoe_size'].apply(lambda x: x + 2).mean())"
   ]
  },
  {
   "cell_type": "code",
   "execution_count": 14,
   "metadata": {},
   "outputs": [
    {
     "name": "stdout",
     "output_type": "stream",
     "text": [
      "After multiplying each element of the data set by 3, the new mean is 22.67\n"
     ]
    }
   ],
   "source": [
    "print(\"After multiplying each element of the data set by 3, the new mean is\",dfFootIQ['shoe_size'].apply(lambda x: x * 3).mean())"
   ]
  },
  {
   "cell_type": "code",
   "execution_count": 15,
   "metadata": {},
   "outputs": [
    {
     "name": "stdout",
     "output_type": "stream",
     "text": [
      "Sample Variance shoe size of the provided data: 1.4984545252390487\n"
     ]
    }
   ],
   "source": [
    "print(\"Sample Variance shoe size of the provided data:\",dfFootIQ['shoe_size'].var())"
   ]
  },
  {
   "cell_type": "code",
   "execution_count": 16,
   "metadata": {},
   "outputs": [
    {
     "name": "stdout",
     "output_type": "stream",
     "text": [
      "After adding 2 to each element of the data set, the new sample variance is 1.4984545252390487\n"
     ]
    }
   ],
   "source": [
    "print(\"After adding 2 to each element of the data set, the new sample variance is\",dfFootIQ['shoe_size'].apply(lambda x: x + 2).var())"
   ]
  },
  {
   "cell_type": "code",
   "execution_count": 17,
   "metadata": {},
   "outputs": [
    {
     "name": "stdout",
     "output_type": "stream",
     "text": [
      "After multiplying each element of the data set by 3, the new sample variance is 13.486090727151158\n"
     ]
    }
   ],
   "source": [
    "print(\"After multiplying each element of the data set by 3, the new sample variance is\",dfFootIQ['shoe_size'].apply(lambda x: x * 3).var())"
   ]
  },
  {
   "cell_type": "code",
   "execution_count": 18,
   "metadata": {},
   "outputs": [
    {
     "data": {
      "text/html": [
       "<div>\n",
       "<style scoped>\n",
       "    .dataframe tbody tr th:only-of-type {\n",
       "        vertical-align: middle;\n",
       "    }\n",
       "\n",
       "    .dataframe tbody tr th {\n",
       "        vertical-align: top;\n",
       "    }\n",
       "\n",
       "    .dataframe thead th {\n",
       "        text-align: right;\n",
       "    }\n",
       "</style>\n",
       "<table border=\"1\" class=\"dataframe\">\n",
       "  <thead>\n",
       "    <tr style=\"text-align: right;\">\n",
       "      <th></th>\n",
       "      <th>PassengerId</th>\n",
       "      <th>Survived</th>\n",
       "      <th>Pclass</th>\n",
       "      <th>Name</th>\n",
       "      <th>Sex</th>\n",
       "      <th>Age</th>\n",
       "      <th>SibSp</th>\n",
       "      <th>Parch</th>\n",
       "      <th>Ticket</th>\n",
       "      <th>Fare</th>\n",
       "      <th>Cabin</th>\n",
       "      <th>Embarked</th>\n",
       "    </tr>\n",
       "  </thead>\n",
       "  <tbody>\n",
       "    <tr>\n",
       "      <th>0</th>\n",
       "      <td>1</td>\n",
       "      <td>0</td>\n",
       "      <td>3</td>\n",
       "      <td>Braund, Mr. Owen Harris</td>\n",
       "      <td>male</td>\n",
       "      <td>36.0</td>\n",
       "      <td>1</td>\n",
       "      <td>0</td>\n",
       "      <td>A/5 21171</td>\n",
       "      <td>7.2500</td>\n",
       "      <td>NaN</td>\n",
       "      <td>S</td>\n",
       "    </tr>\n",
       "    <tr>\n",
       "      <th>1</th>\n",
       "      <td>2</td>\n",
       "      <td>1</td>\n",
       "      <td>1</td>\n",
       "      <td>Cumings, Mrs. John Bradley (Florence Briggs Th...</td>\n",
       "      <td>female</td>\n",
       "      <td>18.0</td>\n",
       "      <td>1</td>\n",
       "      <td>0</td>\n",
       "      <td>PC 17599</td>\n",
       "      <td>71.2833</td>\n",
       "      <td>C85</td>\n",
       "      <td>C</td>\n",
       "    </tr>\n",
       "    <tr>\n",
       "      <th>2</th>\n",
       "      <td>3</td>\n",
       "      <td>1</td>\n",
       "      <td>3</td>\n",
       "      <td>Heikkinen, Miss. Laina</td>\n",
       "      <td>female</td>\n",
       "      <td>14.0</td>\n",
       "      <td>0</td>\n",
       "      <td>0</td>\n",
       "      <td>STON/O2. 3101282</td>\n",
       "      <td>7.9250</td>\n",
       "      <td>NaN</td>\n",
       "      <td>S</td>\n",
       "    </tr>\n",
       "    <tr>\n",
       "      <th>3</th>\n",
       "      <td>4</td>\n",
       "      <td>1</td>\n",
       "      <td>1</td>\n",
       "      <td>Futrelle, Mrs. Jacques Heath (Lily May Peel)</td>\n",
       "      <td>female</td>\n",
       "      <td>27.0</td>\n",
       "      <td>1</td>\n",
       "      <td>0</td>\n",
       "      <td>113803</td>\n",
       "      <td>53.1000</td>\n",
       "      <td>C123</td>\n",
       "      <td>S</td>\n",
       "    </tr>\n",
       "    <tr>\n",
       "      <th>4</th>\n",
       "      <td>5</td>\n",
       "      <td>0</td>\n",
       "      <td>3</td>\n",
       "      <td>Allen, Mr. William Henry</td>\n",
       "      <td>male</td>\n",
       "      <td>63.0</td>\n",
       "      <td>0</td>\n",
       "      <td>0</td>\n",
       "      <td>373450</td>\n",
       "      <td>8.0500</td>\n",
       "      <td>NaN</td>\n",
       "      <td>S</td>\n",
       "    </tr>\n",
       "    <tr>\n",
       "      <th>...</th>\n",
       "      <td>...</td>\n",
       "      <td>...</td>\n",
       "      <td>...</td>\n",
       "      <td>...</td>\n",
       "      <td>...</td>\n",
       "      <td>...</td>\n",
       "      <td>...</td>\n",
       "      <td>...</td>\n",
       "      <td>...</td>\n",
       "      <td>...</td>\n",
       "      <td>...</td>\n",
       "      <td>...</td>\n",
       "    </tr>\n",
       "    <tr>\n",
       "      <th>886</th>\n",
       "      <td>887</td>\n",
       "      <td>0</td>\n",
       "      <td>2</td>\n",
       "      <td>Montvila, Rev. Juozas</td>\n",
       "      <td>male</td>\n",
       "      <td>4.0</td>\n",
       "      <td>0</td>\n",
       "      <td>0</td>\n",
       "      <td>211536</td>\n",
       "      <td>13.0000</td>\n",
       "      <td>NaN</td>\n",
       "      <td>S</td>\n",
       "    </tr>\n",
       "    <tr>\n",
       "      <th>887</th>\n",
       "      <td>888</td>\n",
       "      <td>1</td>\n",
       "      <td>1</td>\n",
       "      <td>Graham, Miss. Margaret Edith</td>\n",
       "      <td>female</td>\n",
       "      <td>24.0</td>\n",
       "      <td>0</td>\n",
       "      <td>0</td>\n",
       "      <td>112053</td>\n",
       "      <td>30.0000</td>\n",
       "      <td>B42</td>\n",
       "      <td>S</td>\n",
       "    </tr>\n",
       "    <tr>\n",
       "      <th>888</th>\n",
       "      <td>889</td>\n",
       "      <td>0</td>\n",
       "      <td>3</td>\n",
       "      <td>Johnston, Miss. Catherine Helen \"Carrie\"</td>\n",
       "      <td>female</td>\n",
       "      <td>23.0</td>\n",
       "      <td>1</td>\n",
       "      <td>2</td>\n",
       "      <td>W./C. 6607</td>\n",
       "      <td>23.4500</td>\n",
       "      <td>NaN</td>\n",
       "      <td>S</td>\n",
       "    </tr>\n",
       "    <tr>\n",
       "      <th>889</th>\n",
       "      <td>890</td>\n",
       "      <td>1</td>\n",
       "      <td>1</td>\n",
       "      <td>Behr, Mr. Karl Howell</td>\n",
       "      <td>male</td>\n",
       "      <td>NaN</td>\n",
       "      <td>0</td>\n",
       "      <td>0</td>\n",
       "      <td>111369</td>\n",
       "      <td>30.0000</td>\n",
       "      <td>C148</td>\n",
       "      <td>C</td>\n",
       "    </tr>\n",
       "    <tr>\n",
       "      <th>890</th>\n",
       "      <td>891</td>\n",
       "      <td>0</td>\n",
       "      <td>3</td>\n",
       "      <td>Dooley, Mr. Patrick</td>\n",
       "      <td>male</td>\n",
       "      <td>NaN</td>\n",
       "      <td>0</td>\n",
       "      <td>0</td>\n",
       "      <td>370376</td>\n",
       "      <td>7.7500</td>\n",
       "      <td>NaN</td>\n",
       "      <td>Q</td>\n",
       "    </tr>\n",
       "  </tbody>\n",
       "</table>\n",
       "<p>891 rows × 12 columns</p>\n",
       "</div>"
      ],
      "text/plain": [
       "     PassengerId  Survived  Pclass  \\\n",
       "0              1         0       3   \n",
       "1              2         1       1   \n",
       "2              3         1       3   \n",
       "3              4         1       1   \n",
       "4              5         0       3   \n",
       "..           ...       ...     ...   \n",
       "886          887         0       2   \n",
       "887          888         1       1   \n",
       "888          889         0       3   \n",
       "889          890         1       1   \n",
       "890          891         0       3   \n",
       "\n",
       "                                                  Name     Sex   Age  SibSp  \\\n",
       "0                              Braund, Mr. Owen Harris    male  36.0      1   \n",
       "1    Cumings, Mrs. John Bradley (Florence Briggs Th...  female  18.0      1   \n",
       "2                               Heikkinen, Miss. Laina  female  14.0      0   \n",
       "3         Futrelle, Mrs. Jacques Heath (Lily May Peel)  female  27.0      1   \n",
       "4                             Allen, Mr. William Henry    male  63.0      0   \n",
       "..                                                 ...     ...   ...    ...   \n",
       "886                              Montvila, Rev. Juozas    male   4.0      0   \n",
       "887                       Graham, Miss. Margaret Edith  female  24.0      0   \n",
       "888           Johnston, Miss. Catherine Helen \"Carrie\"  female  23.0      1   \n",
       "889                              Behr, Mr. Karl Howell    male   NaN      0   \n",
       "890                                Dooley, Mr. Patrick    male   NaN      0   \n",
       "\n",
       "     Parch            Ticket     Fare Cabin Embarked  \n",
       "0        0         A/5 21171   7.2500   NaN        S  \n",
       "1        0          PC 17599  71.2833   C85        C  \n",
       "2        0  STON/O2. 3101282   7.9250   NaN        S  \n",
       "3        0            113803  53.1000  C123        S  \n",
       "4        0            373450   8.0500   NaN        S  \n",
       "..     ...               ...      ...   ...      ...  \n",
       "886      0            211536  13.0000   NaN        S  \n",
       "887      0            112053  30.0000   B42        S  \n",
       "888      2        W./C. 6607  23.4500   NaN        S  \n",
       "889      0            111369  30.0000  C148        C  \n",
       "890      0            370376   7.7500   NaN        Q  \n",
       "\n",
       "[891 rows x 12 columns]"
      ]
     },
     "execution_count": 18,
     "metadata": {},
     "output_type": "execute_result"
    }
   ],
   "source": [
    "file_path_2 = 'titanic_data.csv'\n",
    "titanicData = pd.read_csv(file_path_2)\n",
    "\n",
    "titanicData.head(891)"
   ]
  },
  {
   "cell_type": "code",
   "execution_count": 19,
   "metadata": {},
   "outputs": [
    {
     "data": {
      "text/html": [
       "<div>\n",
       "<style scoped>\n",
       "    .dataframe tbody tr th:only-of-type {\n",
       "        vertical-align: middle;\n",
       "    }\n",
       "\n",
       "    .dataframe tbody tr th {\n",
       "        vertical-align: top;\n",
       "    }\n",
       "\n",
       "    .dataframe thead th {\n",
       "        text-align: right;\n",
       "    }\n",
       "</style>\n",
       "<table border=\"1\" class=\"dataframe\">\n",
       "  <thead>\n",
       "    <tr style=\"text-align: right;\">\n",
       "      <th></th>\n",
       "      <th>PassengerId</th>\n",
       "      <th>Survived</th>\n",
       "      <th>Pclass</th>\n",
       "      <th>Name</th>\n",
       "      <th>Sex</th>\n",
       "      <th>Age</th>\n",
       "      <th>SibSp</th>\n",
       "      <th>Parch</th>\n",
       "      <th>Ticket</th>\n",
       "      <th>Fare</th>\n",
       "      <th>Cabin</th>\n",
       "      <th>Embarked</th>\n",
       "    </tr>\n",
       "  </thead>\n",
       "  <tbody>\n",
       "    <tr>\n",
       "      <th>0</th>\n",
       "      <td>1</td>\n",
       "      <td>0</td>\n",
       "      <td>3</td>\n",
       "      <td>Braund, Mr. Owen Harris</td>\n",
       "      <td>male</td>\n",
       "      <td>36.0</td>\n",
       "      <td>1</td>\n",
       "      <td>0</td>\n",
       "      <td>A/5 21171</td>\n",
       "      <td>7.2500</td>\n",
       "      <td>NaN</td>\n",
       "      <td>S</td>\n",
       "    </tr>\n",
       "    <tr>\n",
       "      <th>1</th>\n",
       "      <td>2</td>\n",
       "      <td>1</td>\n",
       "      <td>1</td>\n",
       "      <td>Cumings, Mrs. John Bradley (Florence Briggs Th...</td>\n",
       "      <td>female</td>\n",
       "      <td>18.0</td>\n",
       "      <td>1</td>\n",
       "      <td>0</td>\n",
       "      <td>PC 17599</td>\n",
       "      <td>71.2833</td>\n",
       "      <td>C85</td>\n",
       "      <td>C</td>\n",
       "    </tr>\n",
       "    <tr>\n",
       "      <th>2</th>\n",
       "      <td>3</td>\n",
       "      <td>1</td>\n",
       "      <td>3</td>\n",
       "      <td>Heikkinen, Miss. Laina</td>\n",
       "      <td>female</td>\n",
       "      <td>14.0</td>\n",
       "      <td>0</td>\n",
       "      <td>0</td>\n",
       "      <td>STON/O2. 3101282</td>\n",
       "      <td>7.9250</td>\n",
       "      <td>NaN</td>\n",
       "      <td>S</td>\n",
       "    </tr>\n",
       "    <tr>\n",
       "      <th>3</th>\n",
       "      <td>4</td>\n",
       "      <td>1</td>\n",
       "      <td>1</td>\n",
       "      <td>Futrelle, Mrs. Jacques Heath (Lily May Peel)</td>\n",
       "      <td>female</td>\n",
       "      <td>27.0</td>\n",
       "      <td>1</td>\n",
       "      <td>0</td>\n",
       "      <td>113803</td>\n",
       "      <td>53.1000</td>\n",
       "      <td>C123</td>\n",
       "      <td>S</td>\n",
       "    </tr>\n",
       "    <tr>\n",
       "      <th>4</th>\n",
       "      <td>5</td>\n",
       "      <td>0</td>\n",
       "      <td>3</td>\n",
       "      <td>Allen, Mr. William Henry</td>\n",
       "      <td>male</td>\n",
       "      <td>63.0</td>\n",
       "      <td>0</td>\n",
       "      <td>0</td>\n",
       "      <td>373450</td>\n",
       "      <td>8.0500</td>\n",
       "      <td>NaN</td>\n",
       "      <td>S</td>\n",
       "    </tr>\n",
       "    <tr>\n",
       "      <th>...</th>\n",
       "      <td>...</td>\n",
       "      <td>...</td>\n",
       "      <td>...</td>\n",
       "      <td>...</td>\n",
       "      <td>...</td>\n",
       "      <td>...</td>\n",
       "      <td>...</td>\n",
       "      <td>...</td>\n",
       "      <td>...</td>\n",
       "      <td>...</td>\n",
       "      <td>...</td>\n",
       "      <td>...</td>\n",
       "    </tr>\n",
       "    <tr>\n",
       "      <th>884</th>\n",
       "      <td>885</td>\n",
       "      <td>0</td>\n",
       "      <td>3</td>\n",
       "      <td>Sutehall, Mr. Henry Jr</td>\n",
       "      <td>male</td>\n",
       "      <td>18.0</td>\n",
       "      <td>0</td>\n",
       "      <td>0</td>\n",
       "      <td>SOTON/OQ 392076</td>\n",
       "      <td>7.0500</td>\n",
       "      <td>NaN</td>\n",
       "      <td>S</td>\n",
       "    </tr>\n",
       "    <tr>\n",
       "      <th>885</th>\n",
       "      <td>886</td>\n",
       "      <td>0</td>\n",
       "      <td>3</td>\n",
       "      <td>Rice, Mrs. William (Margaret Norton)</td>\n",
       "      <td>female</td>\n",
       "      <td>30.0</td>\n",
       "      <td>0</td>\n",
       "      <td>5</td>\n",
       "      <td>382652</td>\n",
       "      <td>29.1250</td>\n",
       "      <td>NaN</td>\n",
       "      <td>Q</td>\n",
       "    </tr>\n",
       "    <tr>\n",
       "      <th>886</th>\n",
       "      <td>887</td>\n",
       "      <td>0</td>\n",
       "      <td>2</td>\n",
       "      <td>Montvila, Rev. Juozas</td>\n",
       "      <td>male</td>\n",
       "      <td>4.0</td>\n",
       "      <td>0</td>\n",
       "      <td>0</td>\n",
       "      <td>211536</td>\n",
       "      <td>13.0000</td>\n",
       "      <td>NaN</td>\n",
       "      <td>S</td>\n",
       "    </tr>\n",
       "    <tr>\n",
       "      <th>887</th>\n",
       "      <td>888</td>\n",
       "      <td>1</td>\n",
       "      <td>1</td>\n",
       "      <td>Graham, Miss. Margaret Edith</td>\n",
       "      <td>female</td>\n",
       "      <td>24.0</td>\n",
       "      <td>0</td>\n",
       "      <td>0</td>\n",
       "      <td>112053</td>\n",
       "      <td>30.0000</td>\n",
       "      <td>B42</td>\n",
       "      <td>S</td>\n",
       "    </tr>\n",
       "    <tr>\n",
       "      <th>888</th>\n",
       "      <td>889</td>\n",
       "      <td>0</td>\n",
       "      <td>3</td>\n",
       "      <td>Johnston, Miss. Catherine Helen \"Carrie\"</td>\n",
       "      <td>female</td>\n",
       "      <td>23.0</td>\n",
       "      <td>1</td>\n",
       "      <td>2</td>\n",
       "      <td>W./C. 6607</td>\n",
       "      <td>23.4500</td>\n",
       "      <td>NaN</td>\n",
       "      <td>S</td>\n",
       "    </tr>\n",
       "  </tbody>\n",
       "</table>\n",
       "<p>714 rows × 12 columns</p>\n",
       "</div>"
      ],
      "text/plain": [
       "     PassengerId  Survived  Pclass  \\\n",
       "0              1         0       3   \n",
       "1              2         1       1   \n",
       "2              3         1       3   \n",
       "3              4         1       1   \n",
       "4              5         0       3   \n",
       "..           ...       ...     ...   \n",
       "884          885         0       3   \n",
       "885          886         0       3   \n",
       "886          887         0       2   \n",
       "887          888         1       1   \n",
       "888          889         0       3   \n",
       "\n",
       "                                                  Name     Sex   Age  SibSp  \\\n",
       "0                              Braund, Mr. Owen Harris    male  36.0      1   \n",
       "1    Cumings, Mrs. John Bradley (Florence Briggs Th...  female  18.0      1   \n",
       "2                               Heikkinen, Miss. Laina  female  14.0      0   \n",
       "3         Futrelle, Mrs. Jacques Heath (Lily May Peel)  female  27.0      1   \n",
       "4                             Allen, Mr. William Henry    male  63.0      0   \n",
       "..                                                 ...     ...   ...    ...   \n",
       "884                             Sutehall, Mr. Henry Jr    male  18.0      0   \n",
       "885               Rice, Mrs. William (Margaret Norton)  female  30.0      0   \n",
       "886                              Montvila, Rev. Juozas    male   4.0      0   \n",
       "887                       Graham, Miss. Margaret Edith  female  24.0      0   \n",
       "888           Johnston, Miss. Catherine Helen \"Carrie\"  female  23.0      1   \n",
       "\n",
       "     Parch            Ticket     Fare Cabin Embarked  \n",
       "0        0         A/5 21171   7.2500   NaN        S  \n",
       "1        0          PC 17599  71.2833   C85        C  \n",
       "2        0  STON/O2. 3101282   7.9250   NaN        S  \n",
       "3        0            113803  53.1000  C123        S  \n",
       "4        0            373450   8.0500   NaN        S  \n",
       "..     ...               ...      ...   ...      ...  \n",
       "884      0   SOTON/OQ 392076   7.0500   NaN        S  \n",
       "885      5            382652  29.1250   NaN        Q  \n",
       "886      0            211536  13.0000   NaN        S  \n",
       "887      0            112053  30.0000   B42        S  \n",
       "888      2        W./C. 6607  23.4500   NaN        S  \n",
       "\n",
       "[714 rows x 12 columns]"
      ]
     },
     "execution_count": 19,
     "metadata": {},
     "output_type": "execute_result"
    }
   ],
   "source": [
    "dfTitanic = titanicData.dropna(subset=[\"Survived\", \"Pclass\", \"Age\", \"Sex\"]).copy()\n",
    "dfTitanic.head(1000)"
   ]
  },
  {
   "cell_type": "code",
   "execution_count": 20,
   "metadata": {},
   "outputs": [
    {
     "name": "stdout",
     "output_type": "stream",
     "text": [
      "The proportion of people who survived the trajedy is 0.3908\n"
     ]
    }
   ],
   "source": [
    "num_survived = dfTitanic['Survived'].sum()\n",
    "num_people = len(dfTitanic)\n",
    "\n",
    "prop_survived = num_survived / num_people\n",
    "prop_survived = prop_survived.round(decimals=4)\n",
    "\n",
    "print(\"The proportion of people who survived the trajedy is\", prop_survived)"
   ]
  },
  {
   "cell_type": "code",
   "execution_count": 21,
   "metadata": {},
   "outputs": [
    {
     "name": "stdout",
     "output_type": "stream",
     "text": [
      "19.654427645788335 percent of males survived.\n",
      "74.9003984063745 percent of females survived.\n",
      "\n",
      "64.28571428571429 percent of first class passengers survived.\n",
      "48.275862068965516 percent of second class passengers survived.\n",
      "25.187032418952622 percent of third class passengers survived.\n",
      "\n",
      "38.70967741935484 percent of first class males survived.\n",
      "96.0 percent of first class females survived.\n",
      "18.39080459770115 percent of second class males survived.\n",
      "93.10344827586206 percent of second class females survived.\n",
      "13.780918727915195 percent of third class males survived.\n",
      "52.54237288135594 percent of third class females survived.\n"
     ]
    }
   ],
   "source": [
    "# Calculating the percentage of males survived\n",
    "men_survived=len(dfTitanic.loc[(dfTitanic[\"Sex\"] =='male') & (dfTitanic[\"Survived\"] ==1), [\"PassengerId\"]])\n",
    "total_men=len(dfTitanic.loc[(dfTitanic[\"Sex\"] =='male')])\n",
    "print(\"{} percent of males survived.\".format((men_survived / total_men) * 100))\n",
    "\n",
    "# Calculating the percentage of females survived\n",
    "women_survived=len(dfTitanic.loc[(dfTitanic[\"Sex\"] =='female') & (dfTitanic[\"Survived\"] ==1), [\"PassengerId\"]])\n",
    "total_women=len(dfTitanic.loc[(dfTitanic[\"Sex\"] =='female')])\n",
    "print(\"{} percent of females survived.\".format((women_survived / total_women) * 100))\n",
    "\n",
    "print(\"\")\n",
    "#================================================================================\n",
    "\n",
    "# Calculating the percentage of 1st class passengers survived\n",
    "first_class_survived=len(dfTitanic.loc[(dfTitanic[\"Pclass\"] == 1) & (dfTitanic[\"Survived\"] ==1), [\"PassengerId\"]])\n",
    "total_first_class=len(dfTitanic.loc[(dfTitanic[\"Pclass\"] == 1)])\n",
    "print(\"{} percent of first class passengers survived.\".format((first_class_survived / total_first_class) * 100))\n",
    "\n",
    "# Calculating the percentage of 2nd class passengers survived\n",
    "second_class_survived=len(dfTitanic.loc[(dfTitanic[\"Pclass\"] == 2) & (dfTitanic[\"Survived\"] ==1), [\"PassengerId\"]])\n",
    "total_second_class=len(dfTitanic.loc[(dfTitanic[\"Pclass\"] == 2)])\n",
    "print(\"{} percent of second class passengers survived.\".format((second_class_survived / total_second_class) * 100))\n",
    "\n",
    "# Calculating the percentage of 3rd class passengers survived\n",
    "third_class_survived=len(dfTitanic.loc[(dfTitanic[\"Pclass\"] == 3) & (dfTitanic[\"Survived\"] ==1), [\"PassengerId\"]])\n",
    "total_third_class=len(dfTitanic.loc[(dfTitanic[\"Pclass\"] == 3)])\n",
    "print(\"{} percent of third class passengers survived.\".format((third_class_survived / total_third_class) * 100))\n",
    "\n",
    "print(\"\")\n",
    "#================================================================================\n",
    "\n",
    "# Calculating the percentage of 1st class male passengers survived\n",
    "first_class_men_survived=len(dfTitanic.loc[(dfTitanic[\"Sex\"] =='male') & (dfTitanic[\"Survived\"] ==1) & (dfTitanic[\"Pclass\"] == 1), [\"PassengerId\"]])\n",
    "total_first_class_men=len(dfTitanic.loc[(dfTitanic[\"Sex\"] =='male') & (dfTitanic[\"Pclass\"] == 1)])\n",
    "print(\"{} percent of first class males survived.\".format((first_class_men_survived / total_first_class_men) * 100))\n",
    "\n",
    "# Calculating the percentage of 1st class female passengers survived\n",
    "first_class_women_survived=len(dfTitanic.loc[(dfTitanic[\"Sex\"] =='female') & (dfTitanic[\"Survived\"] ==1) & (dfTitanic[\"Pclass\"] == 1), [\"PassengerId\"]])\n",
    "total_first_class_women=len(dfTitanic.loc[(dfTitanic[\"Sex\"] =='female') & (dfTitanic[\"Pclass\"] == 1)])\n",
    "print(\"{} percent of first class females survived.\".format((first_class_women_survived / total_first_class_women) * 100))\n",
    "\n",
    "# Calculating the percentage of 2nd class male passengers survived\n",
    "second_class_men_survived=len(dfTitanic.loc[(dfTitanic[\"Sex\"] =='male') & (dfTitanic[\"Survived\"] ==1) & (dfTitanic[\"Pclass\"] == 2), [\"PassengerId\"]])\n",
    "total_second_class_men=len(dfTitanic.loc[(dfTitanic[\"Sex\"] =='male') & (dfTitanic[\"Pclass\"] == 2)])\n",
    "print(\"{} percent of second class males survived.\".format((second_class_men_survived / total_second_class_men) * 100))\n",
    "\n",
    "# Calculating the percentage of 2nd class female passengers survived\n",
    "second_class_women_survived=len(dfTitanic.loc[(dfTitanic[\"Sex\"] =='female') & (dfTitanic[\"Survived\"] ==1) & (dfTitanic[\"Pclass\"] == 2), [\"PassengerId\"]])\n",
    "total_second_class_women=len(dfTitanic.loc[(dfTitanic[\"Sex\"] =='female') & (dfTitanic[\"Pclass\"] == 2)])\n",
    "print(\"{} percent of second class females survived.\".format((second_class_women_survived / total_second_class_women) * 100))\n",
    "\n",
    "# Calculating the percentage of 3rd class male passengers survived\n",
    "third_class_men_survived=len(dfTitanic.loc[(dfTitanic[\"Sex\"] =='male') & (dfTitanic[\"Survived\"] ==1) & (dfTitanic[\"Pclass\"] == 3), [\"PassengerId\"]])\n",
    "total_third_class_men=len(dfTitanic.loc[(dfTitanic[\"Sex\"] =='male') & (dfTitanic[\"Pclass\"] == 3)])\n",
    "print(\"{} percent of third class males survived.\".format((third_class_men_survived / total_third_class_men) * 100))\n",
    "\n",
    "# Calculating the percentage of 3rd class female passengers survived\n",
    "third_class_women_survived=len(dfTitanic.loc[(dfTitanic[\"Sex\"] =='female') & (dfTitanic[\"Survived\"] ==1) & (dfTitanic[\"Pclass\"] == 3), [\"PassengerId\"]])\n",
    "total_third_class_women=len(dfTitanic.loc[(dfTitanic[\"Sex\"] =='female') & (dfTitanic[\"Pclass\"] == 3)])\n",
    "print(\"{} percent of third class females survived.\".format((third_class_women_survived / total_third_class_women) * 100))"
   ]
  },
  {
   "cell_type": "code",
   "execution_count": 22,
   "metadata": {},
   "outputs": [
    {
     "name": "stdout",
     "output_type": "stream",
     "text": [
      "The survivors had a median age of 27\n",
      "Meanwhile, the deceased had a median age of 29\n"
     ]
    }
   ],
   "source": [
    "median_age_survived = dfTitanic.loc[(dfTitanic[\"Survived\"] ==1), [\"Age\"]].median()\n",
    "median_age_survived = int(median_age_survived)\n",
    "median_age_died = dfTitanic.loc[(dfTitanic[\"Survived\"] ==0), [\"Age\"]].median()\n",
    "median_age_died = int(median_age_died)\n",
    "\n",
    "print(\"The survivors had a median age of {}\".format(median_age_survived))\n",
    "print(\"Meanwhile, the deceased had a median age of {}\".format(median_age_died))"
   ]
  },
  {
   "cell_type": "code",
   "execution_count": 23,
   "metadata": {},
   "outputs": [
    {
     "name": "stdout",
     "output_type": "stream",
     "text": [
      "The IQR for passengers survived is 18.5\n",
      "The IQR for passengers died is 17.75\n"
     ]
    }
   ],
   "source": [
    "IQR_survived = dfTitanic.loc[(dfTitanic[\"Survived\"] ==1), [\"Age\"]].quantile(.75) - dfTitanic.loc[(dfTitanic[\"Survived\"] ==1), [\"Age\"]].quantile(.25)\n",
    "IQR_survived = float(IQR_survived)\n",
    "print(\"The IQR for passengers survived is\", IQR_survived)\n",
    "\n",
    "IQR_died = dfTitanic.loc[(dfTitanic[\"Survived\"] ==0), [\"Age\"]].quantile(.75) - dfTitanic.loc[(dfTitanic[\"Survived\"] ==0), [\"Age\"]].quantile(.25)\n",
    "IQR_died = float(IQR_died)\n",
    "print(\"The IQR for passengers died is\", IQR_died)\n"
   ]
  },
  {
   "cell_type": "code",
   "execution_count": 24,
   "metadata": {},
   "outputs": [
    {
     "data": {
      "text/plain": [
       "<AxesSubplot:title={'center':'Ages of Passengers who Died'}, ylabel='Age'>"
      ]
     },
     "execution_count": 24,
     "metadata": {},
     "output_type": "execute_result"
    },
    {
     "data": {
      "image/png": "[encoded data removed]",
      "text/plain": [
       "<Figure size 640x480 with 1 Axes>"
      ]
     },
     "metadata": {},
     "output_type": "display_data"
    },
    {
     "data": {
      "image/png": "[encoded data removed]",
      "text/plain": [
       "<Figure size 640x480 with 1 Axes>"
      ]
     },
     "metadata": {},
     "output_type": "display_data"
    }
   ],
   "source": [
    "dfTitanic.loc[(dfTitanic[\"Survived\"] ==1), [\"Age\"]].plot.box(title=\"Ages of Passengers who Survived\",ylabel=\"Age\")\n",
    "dfTitanic.loc[(dfTitanic[\"Survived\"] ==0), [\"Age\"]].plot.box(title=\"Ages of Passengers who Died\",ylabel=\"Age\")"
   ]
  },
  {
   "cell_type": "code",
   "execution_count": 25,
   "metadata": {},
   "outputs": [
    {
     "data": {
      "text/plain": [
       "<matplotlib.legend.Legend at 0x21a107868b0>"
      ]
     },
     "execution_count": 25,
     "metadata": {},
     "output_type": "execute_result"
    },
    {
     "data": {
      "image/png": "[encoded data removed]",
      "text/plain": [
       "<Figure size 1000x600 with 1 Axes>"
      ]
     },
     "metadata": {},
     "output_type": "display_data"
    }
   ],
   "source": [
    "G\n",
    "bin_edges = range(0,31,3)\n",
    "dataSurvived = dfTitanic.loc[(dfTitanic[\"Survived\"] ==1), [\"Age\"]]\n",
    "dataDied = dfTitanic.loc[(dfTitanic[\"Survived\"] ==0), [\"Age\"]]\n",
    "\n",
    "ax.hist(dataSurvived, label='Passengers Survived', bins = bin_edges, density=1, alpha=0.5)\n",
    "ax.hist(dataDied, label='Passengers Died', bins = bin_edges, density=1, alpha=0.5)\n",
    "ax.set_title(\"Likelihood of Survival based on Age\", fontsize=20)\n",
    "ax.set_xlabel(\"Age\")\n",
    "ax.set_ylabel(\"Chance of Survival\")\n",
    "plt.legend()"
   ]
  }
 ],
 "metadata": {
  "kernelspec": {
   "display_name": "Python 3 (ipykernel)",
   "language": "python",
   "name": "python3"
  },
  "language_info": {
   "codemirror_mode": {
    "name": "ipython",
    "version": 3
   },
   "file_extension": ".py",
   "mimetype": "text/x-python",
   "name": "python",
   "nbconvert_exporter": "python",
   "pygments_lexer": "ipython3",
   "version": "3.9.13"
  }
 },
 "nbformat": 4,
 "nbformat_minor": 2
}
