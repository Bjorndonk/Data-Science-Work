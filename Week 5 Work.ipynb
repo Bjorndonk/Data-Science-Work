{
 "cells": [
  {
   "cell_type": "code",
   "execution_count": 1,
   "metadata": {
    "scrolled": true
   },
   "outputs": [],
   "source": [
    "import pandas as pd\n",
    "import numpy as np\n",
    "import matplotlib.pylab as plt\n",
    "import scipy.stats as stats\n",
    "%matplotlib inline"
   ]
  },
  {
   "cell_type": "code",
   "execution_count": 2,
   "metadata": {},
   "outputs": [
    {
     "name": "stdout",
     "output_type": "stream",
     "text": [
      "The average winnings after 15000 games is estimated to be -2.1908\n"
     ]
    }
   ],
   "source": [
    "import random\n",
    "\n",
    "def wheelSim():\n",
    "    winnings = 0\n",
    "    roll = 0\n",
    "    while roll != 1:\n",
    "        roll = random.randint(1,38)\n",
    "        winnings -= 1\n",
    "    winnings += 36\n",
    "    return winnings\n",
    "\n",
    "totalWinnings = 0\n",
    "for x in range(15000):\n",
    "    totalWinnings += wheelSim()\n",
    "print(\"The average winnings after 15000 games is estimated to be\", totalWinnings / 15000)"
   ]
  }
 ],
 "metadata": {
  "kernelspec": {
   "display_name": "Python 3 (ipykernel)",
   "language": "python",
   "name": "python3"
  },
  "language_info": {
   "codemirror_mode": {
    "name": "ipython",
    "version": 3
   },
   "file_extension": ".py",
   "mimetype": "text/x-python",
   "name": "python",
   "nbconvert_exporter": "python",
   "pygments_lexer": "ipython3",
   "version": "3.9.13"
  }
 },
 "nbformat": 4,
 "nbformat_minor": 2
}
